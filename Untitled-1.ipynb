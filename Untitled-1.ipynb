{
 "cells": [
  {
   "cell_type": "markdown",
   "id": "671d426d",
   "metadata": {},
   "source": [
    "# Import Required Libraries\n",
    "Import pandas, numpy, and matplotlib or seaborn for data analysis and visualization."
   ]
  },
  {
   "cell_type": "code",
   "execution_count": null,
   "id": "9dc1938d",
   "metadata": {},
   "outputs": [],
   "source": [
    "import pandas as pd\n",
    "import numpy as np\n",
    "import seaborn as sns\n",
    "import matplotlib.pyplot as plt\n"
   ]
  },
  {
   "cell_type": "code",
   "execution_count": null,
   "id": "134f0da4",
   "metadata": {},
   "outputs": [],
   "source": [
    "fraud_df = pd.read_csv(\"../data/Fraud_Data.csv\")\n",
    "ip_df = pd.read_csv(\"../data/IpAddress_to_Country.csv\")\n"
   ]
  },
  {
   "cell_type": "code",
   "execution_count": null,
   "id": "5b84dec9",
   "metadata": {},
   "outputs": [],
   "source": [
    "# Import Required Libraries\n",
    "import pandas as pd\n",
    "import numpy as np\n",
    "import matplotlib.pyplot as plt\n",
    "import seaborn as sns"
   ]
  },
  {
   "cell_type": "markdown",
   "id": "5bdf234b",
   "metadata": {},
   "source": [
    "# Load Dataset\n",
    "Load the fraud detection dataset using pandas' read_csv function."
   ]
  },
  {
   "cell_type": "code",
   "execution_count": null,
   "id": "3f7e3fc6",
   "metadata": {},
   "outputs": [],
   "source": [
    "# Load Dataset\n",
    "# Replace 'fraud_data.csv' with your actual dataset filename\n",
    "df = pd.read_csv('fraud_data.csv')"
   ]
  },
  {
   "cell_type": "markdown",
   "id": "b6f19b54",
   "metadata": {},
   "source": [
    "# Display First Few Rows\n",
    "Use the head() method to display the first few rows of the dataset."
   ]
  },
  {
   "cell_type": "code",
   "execution_count": null,
   "id": "df6839a6",
   "metadata": {},
   "outputs": [],
   "source": [
    "# Display First Few Rows\n",
    "df.head()"
   ]
  },
  {
   "cell_type": "code",
   "execution_count": null,
   "id": "756ab8e2",
   "metadata": {},
   "outputs": [],
   "source": [
    "print(\"Fraud_Data missing values:\\n\", fraud_df.isnull().sum())\n",
    "print(\"IP Data missing values:\\n\", ip_df.isnull().sum())\n",
    "\n",
    "# Drop if less than 5% missing\n",
    "fraud_df.dropna(inplace=True)\n"
   ]
  },
  {
   "cell_type": "code",
   "execution_count": null,
   "id": "028c17ba",
   "metadata": {},
   "outputs": [],
   "source": [
    "print(\"Duplicates before:\", fraud_df.duplicated().sum())\n",
    "fraud_df.drop_duplicates(inplace=True)\n",
    "print(\"Duplicates after:\", fraud_df.duplicated().sum())\n"
   ]
  },
  {
   "cell_type": "code",
   "execution_count": null,
   "id": "23d6d409",
   "metadata": {},
   "outputs": [],
   "source": [
    "fraud_df['signup_time'] = pd.to_datetime(fraud_df['signup_time'])\n",
    "fraud_df['purchase_time'] = pd.to_datetime(fraud_df['purchase_time'])\n"
   ]
  },
  {
   "cell_type": "code",
   "execution_count": null,
   "id": "a554c377",
   "metadata": {},
   "outputs": [],
   "source": []
  },
  {
   "cell_type": "markdown",
   "id": "89cd632a",
   "metadata": {},
   "source": [
    "# Check for Missing Values\n",
    "Use isnull().sum() to check for missing values in each column."
   ]
  },
  {
   "cell_type": "code",
   "execution_count": null,
   "id": "f357237e",
   "metadata": {},
   "outputs": [],
   "source": [
    "# Check for Missing Values\n",
    "df.isnull().sum()"
   ]
  },
  {
   "cell_type": "markdown",
   "id": "6497f642",
   "metadata": {},
   "source": [
    "# Summary Statistics\n",
    "Use the describe() method to show summary statistics for numerical columns."
   ]
  },
  {
   "cell_type": "code",
   "execution_count": null,
   "id": "afe05c28",
   "metadata": {},
   "outputs": [],
   "source": [
    "# Summary Statistics\n",
    "df.describe()"
   ]
  },
  {
   "cell_type": "markdown",
   "id": "7d9348f2",
   "metadata": {},
   "source": [
    "# Visualize Class Distribution\n",
    "Plot the distribution of the target variable (e.g., fraud vs. non-fraud) using a bar plot."
   ]
  },
  {
   "cell_type": "code",
   "execution_count": null,
   "id": "b9380315",
   "metadata": {},
   "outputs": [],
   "source": [
    "# Visualize Class Distribution\n",
    "# Replace 'Class' with the actual name of your target column if different\n",
    "plt.figure(figsize=(6,4))\n",
    "sns.countplot(x='Class', data=df)\n",
    "plt.title('Class Distribution (Fraud vs. Non-Fraud)')\n",
    "plt.xlabel('Class')\n",
    "plt.ylabel('Count')\n",
    "plt.show()"
   ]
  },
  {
   "cell_type": "code",
   "execution_count": null,
   "id": "98745b98",
   "metadata": {},
   "outputs": [],
   "source": [
    "sns.countplot(x='class', data=fraud_df)\n",
    "plt.title(\"Fraud vs Non-Fraud\")\n",
    "plt.show()\n"
   ]
  },
  {
   "cell_type": "code",
   "execution_count": null,
   "id": "29229b56",
   "metadata": {},
   "outputs": [],
   "source": [
    "import ipaddress\n",
    "\n",
    "fraud_df['ip_int'] = fraud_df['ip_address'].apply(lambda x: int(ipaddress.IPv4Address(x)))\n",
    "\n",
    "ip_df.rename(columns={\"lower_bound_ip_address\": \"lower_ip\", \"upper_bound_ip_address\": \"upper_ip\"}, inplace=True)\n",
    "\n",
    "def get_country(ip):\n",
    "    match = ip_df[(ip_df['lower_ip'] <= ip) & (ip_df['upper_ip'] >= ip)]\n",
    "    return match['country'].values[0] if not match.empty else None\n",
    "\n",
    "fraud_df['country'] = fraud_df['ip_int'].apply(get_country)\n"
   ]
  },
  {
   "cell_type": "code",
   "execution_count": null,
   "id": "29e1bb98",
   "metadata": {},
   "outputs": [],
   "source": [
    "fraud_df['hour_of_day'] = fraud_df['purchase_time'].dt.hour\n",
    "fraud_df['day_of_week'] = fraud_df['purchase_time'].dt.dayofweek\n",
    "fraud_df['time_since_signup'] = (fraud_df['purchase_time'] - fraud_df['signup_time']).dt.total_seconds()\n"
   ]
  },
  {
   "cell_type": "code",
   "execution_count": null,
   "id": "cc6382ed",
   "metadata": {},
   "outputs": [],
   "source": [
    "fraud_df['class'].value_counts(normalize=True).plot(kind='bar')\n",
    "plt.title(\"Class Distribution\")\n",
    "plt.show()\n"
   ]
  },
  {
   "cell_type": "code",
   "execution_count": null,
   "id": "6ecb8780",
   "metadata": {},
   "outputs": [],
   "source": [
    "from sklearn.model_selection import train_test_split\n",
    "from imblearn.over_sampling import SMOTE\n",
    "\n",
    "X = fraud_df.drop(columns=['class', 'signup_time', 'purchase_time', 'ip_address'])\n",
    "y = fraud_df['class']\n",
    "\n",
    "X_train, X_test, y_train, y_test = train_test_split(X, y, stratify=y, test_size=0.2)\n",
    "\n",
    "smote = SMOTE(random_state=42)\n",
    "X_train_res, y_train_res = smote.fit_resample(X_train, y_train)\n"
   ]
  },
  {
   "cell_type": "code",
   "execution_count": null,
   "id": "c9127649",
   "metadata": {},
   "outputs": [],
   "source": [
    "plt.savefig(\"../reports/class_distribution.png\")\n"
   ]
  }
 ],
 "metadata": {
  "language_info": {
   "name": "python"
  }
 },
 "nbformat": 4,
 "nbformat_minor": 5
}
