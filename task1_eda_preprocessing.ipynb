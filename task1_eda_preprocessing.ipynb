{
 "cells": [
  {
   "cell_type": "code",
   "execution_count": null,
   "id": "9386a554",
   "metadata": {
    "vscode": {
     "languageId": "plaintext"
    }
   },
   "outputs": [],
   "source": [
    "from scripts.preprocessing import load_data, preprocess_data, merge_ip_data\n",
    "\n",
    "# Load data\n",
    "fraud_df, ip_df = load_data(\"data/Fraud_Data.csv\", \"data/IpAddress_to_Country.csv\")\n",
    "\n",
    "# Clean and engineer features\n",
    "fraud_df = preprocess_data(fraud_df)\n",
    "\n",
    "# Merge IP data\n",
    "final_df = merge_ip_data(fraud_df, ip_df)\n"
   ]
  }
 ],
 "metadata": {
  "language_info": {
   "name": "python"
  }
 },
 "nbformat": 4,
 "nbformat_minor": 5
}
